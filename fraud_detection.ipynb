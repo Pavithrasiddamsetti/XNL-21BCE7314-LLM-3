{
  "nbformat": 4,
  "nbformat_minor": 0,
  "metadata": {
    "colab": {
      "provenance": []
    },
    "kernelspec": {
      "name": "python3",
      "display_name": "Python 3"
    },
    "language_info": {
      "name": "python"
    }
  },
  "cells": [
    {
      "cell_type": "code",
      "source": [
        "from google.colab import drive\n",
        "drive.mount('/content/drive')"
      ],
      "metadata": {
        "colab": {
          "base_uri": "https://localhost:8080/"
        },
        "id": "ExW_Q3kQrYcq",
        "outputId": "9074b37c-f644-457f-d678-3351ba007847"
      },
      "execution_count": 32,
      "outputs": [
        {
          "output_type": "stream",
          "name": "stdout",
          "text": [
            "Drive already mounted at /content/drive; to attempt to forcibly remount, call drive.mount(\"/content/drive\", force_remount=True).\n"
          ]
        }
      ]
    },
    {
      "cell_type": "code",
      "source": [
        "import pandas as pd\n",
        "df = pd.read_csv('/content/drive/MyDrive/finance_data/Transactions Data.csv')"
      ],
      "metadata": {
        "id": "Bp5utqmyriJN"
      },
      "execution_count": 33,
      "outputs": []
    },
    {
      "cell_type": "code",
      "source": [
        "import pandas as pd\n",
        "import numpy as np\n",
        "import re\n",
        "\n",
        "\n",
        "df = pd.read_csv(\"/content/drive/MyDrive/finance_data/Transactions Data.csv\")\n",
        "\n",
        "df = df.sample(n=5000, random_state=42).reset_index(drop=True)\n",
        "\n",
        "print(\"Before preprocessing:\")\n",
        "print(df.info())\n",
        "\n",
        "\n",
        "df.dropna(inplace=True)\n",
        "\n",
        "def generate_description(row):\n",
        "    if row['type'] == 'PAYMENT':\n",
        "        return f\"Payment of {row['amount']} made.\"\n",
        "    elif row['type'] == 'TRANSFER':\n",
        "        return f\"Transfer of {row['amount']} to account {row['nameDest']}.\"\n",
        "    elif row['type'] == 'CASH_OUT':\n",
        "        return f\"Cash withdrawal of {row['amount']}.\"\n",
        "    elif row['type'] == 'DEBIT':\n",
        "        return f\"Debit transaction of {row['amount']}.\"\n",
        "    else:\n",
        "        return f\"Transaction of {row['amount']}.\"\n",
        "\n",
        "df['Description'] = df.apply(generate_description, axis=1)\n",
        "\n",
        "def clean_text(text):\n",
        "    text = text.lower()\n",
        "    text = re.sub(r'[^a-z\\s]', '', text)\n",
        "    return text.strip()\n",
        "\n",
        "df['Cleaned_Description'] = df['Description'].apply(clean_text)\n",
        "\n",
        "Q1 = df['amount'].quantile(0.25)\n",
        "Q3 = df['amount'].quantile(0.75)\n",
        "IQR = Q3 - Q1\n",
        "\n",
        "\n",
        "lower_bound = Q1 - 1.5 * IQR\n",
        "upper_bound = Q3 + 1.5 * IQR\n",
        "\n",
        "df = df[(df['amount'] >= lower_bound) & (df['amount'] <= upper_bound)]\n",
        "\n",
        "\n",
        "df.to_csv(\"cleaned_dataset.csv\", index=False)\n",
        "\n",
        "\n",
        "print(\"\\nAfter preprocessing:\")\n",
        "print(df.info())\n"
      ],
      "metadata": {
        "colab": {
          "base_uri": "https://localhost:8080/"
        },
        "id": "CPmoA2J0sECv",
        "outputId": "9c53a829-cf4c-4c98-e6bd-4b17afc8c77e"
      },
      "execution_count": 4,
      "outputs": [
        {
          "output_type": "stream",
          "name": "stdout",
          "text": [
            "Before preprocessing:\n",
            "<class 'pandas.core.frame.DataFrame'>\n",
            "RangeIndex: 5000 entries, 0 to 4999\n",
            "Data columns (total 11 columns):\n",
            " #   Column          Non-Null Count  Dtype  \n",
            "---  ------          --------------  -----  \n",
            " 0   step            5000 non-null   int64  \n",
            " 1   type            5000 non-null   object \n",
            " 2   amount          5000 non-null   float64\n",
            " 3   nameOrig        5000 non-null   object \n",
            " 4   oldbalanceOrg   5000 non-null   float64\n",
            " 5   newbalanceOrig  5000 non-null   float64\n",
            " 6   nameDest        5000 non-null   object \n",
            " 7   oldbalanceDest  5000 non-null   float64\n",
            " 8   newbalanceDest  5000 non-null   float64\n",
            " 9   isFraud         5000 non-null   int64  \n",
            " 10  isFlaggedFraud  5000 non-null   int64  \n",
            "dtypes: float64(5), int64(3), object(3)\n",
            "memory usage: 429.8+ KB\n",
            "None\n",
            "\n",
            "After preprocessing:\n",
            "<class 'pandas.core.frame.DataFrame'>\n",
            "Index: 4733 entries, 0 to 4999\n",
            "Data columns (total 13 columns):\n",
            " #   Column               Non-Null Count  Dtype  \n",
            "---  ------               --------------  -----  \n",
            " 0   step                 4733 non-null   int64  \n",
            " 1   type                 4733 non-null   object \n",
            " 2   amount               4733 non-null   float64\n",
            " 3   nameOrig             4733 non-null   object \n",
            " 4   oldbalanceOrg        4733 non-null   float64\n",
            " 5   newbalanceOrig       4733 non-null   float64\n",
            " 6   nameDest             4733 non-null   object \n",
            " 7   oldbalanceDest       4733 non-null   float64\n",
            " 8   newbalanceDest       4733 non-null   float64\n",
            " 9   isFraud              4733 non-null   int64  \n",
            " 10  isFlaggedFraud       4733 non-null   int64  \n",
            " 11  Description          4733 non-null   object \n",
            " 12  Cleaned_Description  4733 non-null   object \n",
            "dtypes: float64(5), int64(3), object(5)\n",
            "memory usage: 517.7+ KB\n",
            "None\n"
          ]
        }
      ]
    },
    {
      "cell_type": "code",
      "source": [
        "!pip install sentence-transformers\n",
        "\n"
      ],
      "metadata": {
        "colab": {
          "base_uri": "https://localhost:8080/"
        },
        "id": "_JpdUwTks63A",
        "outputId": "a1631e24-1cc4-4531-9b9d-f2e61c4f91b3"
      },
      "execution_count": 34,
      "outputs": [
        {
          "output_type": "stream",
          "name": "stdout",
          "text": [
            "Requirement already satisfied: sentence-transformers in /usr/local/lib/python3.11/dist-packages (3.4.1)\n",
            "Requirement already satisfied: transformers<5.0.0,>=4.41.0 in /usr/local/lib/python3.11/dist-packages (from sentence-transformers) (4.48.3)\n",
            "Requirement already satisfied: tqdm in /usr/local/lib/python3.11/dist-packages (from sentence-transformers) (4.67.1)\n",
            "Requirement already satisfied: torch>=1.11.0 in /usr/local/lib/python3.11/dist-packages (from sentence-transformers) (2.5.1+cu124)\n",
            "Requirement already satisfied: scikit-learn in /usr/local/lib/python3.11/dist-packages (from sentence-transformers) (1.6.1)\n",
            "Requirement already satisfied: scipy in /usr/local/lib/python3.11/dist-packages (from sentence-transformers) (1.14.1)\n",
            "Requirement already satisfied: huggingface-hub>=0.20.0 in /usr/local/lib/python3.11/dist-packages (from sentence-transformers) (0.28.1)\n",
            "Requirement already satisfied: Pillow in /usr/local/lib/python3.11/dist-packages (from sentence-transformers) (11.1.0)\n",
            "Requirement already satisfied: filelock in /usr/local/lib/python3.11/dist-packages (from huggingface-hub>=0.20.0->sentence-transformers) (3.17.0)\n",
            "Requirement already satisfied: fsspec>=2023.5.0 in /usr/local/lib/python3.11/dist-packages (from huggingface-hub>=0.20.0->sentence-transformers) (2024.10.0)\n",
            "Requirement already satisfied: packaging>=20.9 in /usr/local/lib/python3.11/dist-packages (from huggingface-hub>=0.20.0->sentence-transformers) (24.2)\n",
            "Requirement already satisfied: pyyaml>=5.1 in /usr/local/lib/python3.11/dist-packages (from huggingface-hub>=0.20.0->sentence-transformers) (6.0.2)\n",
            "Requirement already satisfied: requests in /usr/local/lib/python3.11/dist-packages (from huggingface-hub>=0.20.0->sentence-transformers) (2.32.3)\n",
            "Requirement already satisfied: typing-extensions>=3.7.4.3 in /usr/local/lib/python3.11/dist-packages (from huggingface-hub>=0.20.0->sentence-transformers) (4.12.2)\n",
            "Requirement already satisfied: networkx in /usr/local/lib/python3.11/dist-packages (from torch>=1.11.0->sentence-transformers) (3.4.2)\n",
            "Requirement already satisfied: jinja2 in /usr/local/lib/python3.11/dist-packages (from torch>=1.11.0->sentence-transformers) (3.1.6)\n",
            "Requirement already satisfied: nvidia-cuda-nvrtc-cu12==12.4.127 in /usr/local/lib/python3.11/dist-packages (from torch>=1.11.0->sentence-transformers) (12.4.127)\n",
            "Requirement already satisfied: nvidia-cuda-runtime-cu12==12.4.127 in /usr/local/lib/python3.11/dist-packages (from torch>=1.11.0->sentence-transformers) (12.4.127)\n",
            "Requirement already satisfied: nvidia-cuda-cupti-cu12==12.4.127 in /usr/local/lib/python3.11/dist-packages (from torch>=1.11.0->sentence-transformers) (12.4.127)\n",
            "Requirement already satisfied: nvidia-cudnn-cu12==9.1.0.70 in /usr/local/lib/python3.11/dist-packages (from torch>=1.11.0->sentence-transformers) (9.1.0.70)\n",
            "Requirement already satisfied: nvidia-cublas-cu12==12.4.5.8 in /usr/local/lib/python3.11/dist-packages (from torch>=1.11.0->sentence-transformers) (12.4.5.8)\n",
            "Requirement already satisfied: nvidia-cufft-cu12==11.2.1.3 in /usr/local/lib/python3.11/dist-packages (from torch>=1.11.0->sentence-transformers) (11.2.1.3)\n",
            "Requirement already satisfied: nvidia-curand-cu12==10.3.5.147 in /usr/local/lib/python3.11/dist-packages (from torch>=1.11.0->sentence-transformers) (10.3.5.147)\n",
            "Requirement already satisfied: nvidia-cusolver-cu12==11.6.1.9 in /usr/local/lib/python3.11/dist-packages (from torch>=1.11.0->sentence-transformers) (11.6.1.9)\n",
            "Requirement already satisfied: nvidia-cusparse-cu12==12.3.1.170 in /usr/local/lib/python3.11/dist-packages (from torch>=1.11.0->sentence-transformers) (12.3.1.170)\n",
            "Requirement already satisfied: nvidia-nccl-cu12==2.21.5 in /usr/local/lib/python3.11/dist-packages (from torch>=1.11.0->sentence-transformers) (2.21.5)\n",
            "Requirement already satisfied: nvidia-nvtx-cu12==12.4.127 in /usr/local/lib/python3.11/dist-packages (from torch>=1.11.0->sentence-transformers) (12.4.127)\n",
            "Requirement already satisfied: nvidia-nvjitlink-cu12==12.4.127 in /usr/local/lib/python3.11/dist-packages (from torch>=1.11.0->sentence-transformers) (12.4.127)\n",
            "Requirement already satisfied: triton==3.1.0 in /usr/local/lib/python3.11/dist-packages (from torch>=1.11.0->sentence-transformers) (3.1.0)\n",
            "Requirement already satisfied: sympy==1.13.1 in /usr/local/lib/python3.11/dist-packages (from torch>=1.11.0->sentence-transformers) (1.13.1)\n",
            "Requirement already satisfied: mpmath<1.4,>=1.1.0 in /usr/local/lib/python3.11/dist-packages (from sympy==1.13.1->torch>=1.11.0->sentence-transformers) (1.3.0)\n",
            "Requirement already satisfied: numpy>=1.17 in /usr/local/lib/python3.11/dist-packages (from transformers<5.0.0,>=4.41.0->sentence-transformers) (1.26.4)\n",
            "Requirement already satisfied: regex!=2019.12.17 in /usr/local/lib/python3.11/dist-packages (from transformers<5.0.0,>=4.41.0->sentence-transformers) (2024.11.6)\n",
            "Requirement already satisfied: tokenizers<0.22,>=0.21 in /usr/local/lib/python3.11/dist-packages (from transformers<5.0.0,>=4.41.0->sentence-transformers) (0.21.0)\n",
            "Requirement already satisfied: safetensors>=0.4.1 in /usr/local/lib/python3.11/dist-packages (from transformers<5.0.0,>=4.41.0->sentence-transformers) (0.5.3)\n",
            "Requirement already satisfied: joblib>=1.2.0 in /usr/local/lib/python3.11/dist-packages (from scikit-learn->sentence-transformers) (1.4.2)\n",
            "Requirement already satisfied: threadpoolctl>=3.1.0 in /usr/local/lib/python3.11/dist-packages (from scikit-learn->sentence-transformers) (3.5.0)\n",
            "Requirement already satisfied: MarkupSafe>=2.0 in /usr/local/lib/python3.11/dist-packages (from jinja2->torch>=1.11.0->sentence-transformers) (2.1.5)\n",
            "Requirement already satisfied: charset-normalizer<4,>=2 in /usr/local/lib/python3.11/dist-packages (from requests->huggingface-hub>=0.20.0->sentence-transformers) (3.4.1)\n",
            "Requirement already satisfied: idna<4,>=2.5 in /usr/local/lib/python3.11/dist-packages (from requests->huggingface-hub>=0.20.0->sentence-transformers) (3.10)\n",
            "Requirement already satisfied: urllib3<3,>=1.21.1 in /usr/local/lib/python3.11/dist-packages (from requests->huggingface-hub>=0.20.0->sentence-transformers) (2.3.0)\n",
            "Requirement already satisfied: certifi>=2017.4.17 in /usr/local/lib/python3.11/dist-packages (from requests->huggingface-hub>=0.20.0->sentence-transformers) (2025.1.31)\n"
          ]
        }
      ]
    },
    {
      "cell_type": "code",
      "source": [
        "import pandas as pd\n",
        "from sentence_transformers import SentenceTransformer\n",
        "import numpy as np\n",
        "\n",
        "\n",
        "df = pd.read_csv(\"/content/cleaned_dataset.csv\")\n",
        "\n",
        "\n",
        "model = SentenceTransformer('sentence-transformers/all-MiniLM-L6-v2')\n",
        "\n",
        "df['embeddings'] = df['Cleaned_Description'].astype(str).apply(lambda x: model.encode(x))\n",
        "\n",
        "embeddings = np.vstack(df['embeddings'].values)\n",
        "\n",
        "np.save(\"transaction_embeddings.npy\", embeddings)\n",
        "\n",
        "df.drop(columns=['embeddings']).to_csv(\"dataset_with_embeddings.csv\", index=False)\n",
        "\n",
        "print(\"Embeddings generated and saved!\")\n"
      ],
      "metadata": {
        "colab": {
          "base_uri": "https://localhost:8080/"
        },
        "id": "kad7nzpEtB81",
        "outputId": "3f20d265-1063-4377-f322-dd30d35bd900"
      },
      "execution_count": 35,
      "outputs": [
        {
          "output_type": "stream",
          "name": "stdout",
          "text": [
            "Embeddings generated and saved!\n"
          ]
        }
      ]
    },
    {
      "cell_type": "code",
      "source": [
        "!pip install faiss-cpu"
      ],
      "metadata": {
        "colab": {
          "base_uri": "https://localhost:8080/"
        },
        "id": "pGIEBwwfuIAs",
        "outputId": "70362d97-80ba-4e3a-c1a8-7f60ce7d69a0"
      },
      "execution_count": 37,
      "outputs": [
        {
          "output_type": "stream",
          "name": "stdout",
          "text": [
            "Requirement already satisfied: faiss-cpu in /usr/local/lib/python3.11/dist-packages (1.10.0)\n",
            "Requirement already satisfied: numpy<3.0,>=1.25.0 in /usr/local/lib/python3.11/dist-packages (from faiss-cpu) (1.26.4)\n",
            "Requirement already satisfied: packaging in /usr/local/lib/python3.11/dist-packages (from faiss-cpu) (24.2)\n"
          ]
        }
      ]
    },
    {
      "cell_type": "code",
      "source": [
        "import faiss\n",
        "import numpy as np\n",
        "\n",
        "embeddings = np.load(\"/content/transaction_embeddings.npy\")\n",
        "\n",
        "d = embeddings.shape[1]\n",
        "faiss.normalize_L2(embeddings)\n",
        "\n",
        "index = faiss.IndexFlatL2(d)\n",
        "index.add(embeddings)\n",
        "\n",
        "faiss.write_index(index, \"faiss_index.bin\")\n",
        "\n",
        "print(\"FAISS index created and saved successfully!\")\n"
      ],
      "metadata": {
        "colab": {
          "base_uri": "https://localhost:8080/"
        },
        "id": "o0tbMjIWuMZm",
        "outputId": "b8fe787e-ecf1-44e5-908b-3341298caa5f"
      },
      "execution_count": 38,
      "outputs": [
        {
          "output_type": "stream",
          "name": "stdout",
          "text": [
            "FAISS index created and saved successfully!\n"
          ]
        }
      ]
    },
    {
      "cell_type": "code",
      "source": [
        "\n",
        "index = faiss.read_index(\"faiss_index.bin\")\n",
        "\n",
        "query_vector = embeddings[0].reshape(1, -1)\n",
        "faiss.normalize_L2(query_vector)\n",
        "\n",
        "k = 5\n",
        "distances, indices = index.search(query_vector, k)\n",
        "\n",
        "print(f\" Top {k} Similar Transactions Found:\")\n",
        "print(indices)\n",
        "print(distances)\n"
      ],
      "metadata": {
        "colab": {
          "base_uri": "https://localhost:8080/"
        },
        "id": "3A5dz1G2uX_3",
        "outputId": "52cf3f50-c5d7-47ab-8a6c-be6fae432cbc"
      },
      "execution_count": 39,
      "outputs": [
        {
          "output_type": "stream",
          "name": "stdout",
          "text": [
            " Top 5 Similar Transactions Found:\n",
            "[[ 0  2  3 19 23]]\n",
            "[[0. 0. 0. 0. 0.]]\n"
          ]
        }
      ]
    },
    {
      "cell_type": "code",
      "source": [
        "import numpy as np\n",
        "import faiss\n",
        "import pandas as pd\n",
        "\n",
        "df = pd.read_csv(\"/content/cleaned_dataset.csv\")\n",
        "embeddings = np.load(\"/content/transaction_embeddings.npy\")\n",
        "index = faiss.read_index(\"/content/faiss_index.bin\")\n",
        "\n",
        "def detect_fraud(query_embedding, threshold=0.5, k=5):\n",
        "\n",
        "    faiss.normalize_L2(query_embedding)\n",
        "    distances, indices = index.search(query_embedding, k)\n",
        "\n",
        "    avg_distance = np.mean(distances)\n",
        "    is_anomalous = avg_distance > threshold\n",
        "\n",
        "    return is_anomalous, avg_distance, indices\n",
        "\n",
        "\n",
        "query_idx = 10\n",
        "query_embedding = embeddings[query_idx].reshape(1, -1)\n",
        "\n",
        "is_fraud, avg_distance, similar_txns = detect_fraud(query_embedding)\n",
        "\n",
        "print(f\" Fraud Detected: {is_fraud} | Avg Distance: {avg_distance}\")\n",
        "print(f\" Similar Transactions (Indices): {similar_txns}\")\n"
      ],
      "metadata": {
        "colab": {
          "base_uri": "https://localhost:8080/"
        },
        "id": "r0JOVCWOuk7R",
        "outputId": "44322339-5797-449d-e6a0-5691698cee42"
      },
      "execution_count": 40,
      "outputs": [
        {
          "output_type": "stream",
          "name": "stdout",
          "text": [
            " Fraud Detected: False | Avg Distance: 0.0\n",
            " Similar Transactions (Indices): [[ 5  6  8  9 10]]\n"
          ]
        }
      ]
    },
    {
      "cell_type": "code",
      "source": [
        "import logging\n",
        "\n",
        "logging.basicConfig(filename=\"fraud_alerts.log\", level=logging.INFO, format=\"%(asctime)s - %(message)s\")\n",
        "\n",
        "def generate_alert(txn_index, is_fraud, avg_distance):\n",
        "\n",
        "    if is_fraud:\n",
        "        txn_details = df.iloc[txn_index].to_dict()\n",
        "        logging.info(f\" Fraud Alert! Transaction Index: {txn_index}, Avg Distance: {avg_distance}\")\n",
        "        print(f\" FRAUD DETECTED! Transaction {txn_index} flagged for review.\")\n",
        "        print(\" Transaction Details:\", txn_details)\n",
        "    else:\n",
        "        print(f\" Transaction {txn_index} is normal.\")\n",
        "\n",
        "txn_index = 10\n",
        "query_embedding = embeddings[txn_index].reshape(1, -1)\n",
        "\n",
        "is_fraud, avg_distance, _ = detect_fraud(query_embedding)\n",
        "generate_alert(txn_index, is_fraud, avg_distance)\n"
      ],
      "metadata": {
        "colab": {
          "base_uri": "https://localhost:8080/"
        },
        "id": "QaOoD0InvIsU",
        "outputId": "8c1a67ea-c0d2-488c-9a3b-2f4ac344e541"
      },
      "execution_count": 41,
      "outputs": [
        {
          "output_type": "stream",
          "name": "stdout",
          "text": [
            " Transaction 10 is normal.\n"
          ]
        }
      ]
    },
    {
      "cell_type": "code",
      "source": [
        "import time\n",
        "\n",
        "def test_fraud_detection(num_tests=100):\n",
        "    fraud_count = 0\n",
        "    total_time = 0\n",
        "\n",
        "    for _ in range(num_tests):\n",
        "        txn_index = np.random.randint(0, len(df))\n",
        "        query_embedding = embeddings[txn_index].reshape(1, -1)\n",
        "\n",
        "        start_time = time.time()\n",
        "        is_fraud, avg_distance, _ = detect_fraud(query_embedding)\n",
        "        total_time += (time.time() - start_time)\n",
        "\n",
        "        if is_fraud:\n",
        "            fraud_count += 1\n",
        "\n",
        "    avg_latency = total_time / num_tests\n",
        "    fraud_rate = fraud_count / num_tests\n",
        "\n",
        "    print(f\" Test Completed: {num_tests} Transactions\")\n",
        "    print(f\" Average Latency: {avg_latency:.4f} sec\")\n",
        "    print(f\" Fraud Detection Rate: {fraud_rate:.2%}\")\n",
        "\n",
        "test_fraud_detection()\n"
      ],
      "metadata": {
        "colab": {
          "base_uri": "https://localhost:8080/"
        },
        "id": "63hI7fyyvW_N",
        "outputId": "40787518-aa67-4240-c2b7-1f5cb20d91ab"
      },
      "execution_count": 42,
      "outputs": [
        {
          "output_type": "stream",
          "name": "stdout",
          "text": [
            " Test Completed: 100 Transactions\n",
            " Average Latency: 0.0011 sec\n",
            " Fraud Detection Rate: 0.00%\n"
          ]
        }
      ]
    },
    {
      "cell_type": "code",
      "source": [
        "def benchmark_faiss_search(k=5):\n",
        "\n",
        "    txn_index = np.random.randint(0, len(df))\n",
        "    query_embedding = embeddings[txn_index].reshape(1, -1)\n",
        "\n",
        "    start_time = time.time()\n",
        "    distances, indices = index.search(query_embedding, k)\n",
        "    search_time = time.time() - start_time\n",
        "\n",
        "    print(f\" FAISS Search Time: {search_time:.4f} sec\")\n",
        "    print(f\" Top {k} Similar Transactions: {indices}\")\n",
        "\n",
        "benchmark_faiss_search()\n"
      ],
      "metadata": {
        "colab": {
          "base_uri": "https://localhost:8080/"
        },
        "id": "v6OoTJWSvk2f",
        "outputId": "d2991cf5-6b99-4731-a8f3-0ab782ee6c0f"
      },
      "execution_count": 43,
      "outputs": [
        {
          "output_type": "stream",
          "name": "stdout",
          "text": [
            " FAISS Search Time: 0.0063 sec\n",
            " Top 5 Similar Transactions: [[ 0  2  3 19 23]]\n"
          ]
        }
      ]
    },
    {
      "cell_type": "code",
      "source": [
        "import numpy as np\n",
        "\n",
        "threshold = np.percentile(df[\"amount\"], 99)\n",
        "\n",
        "df[\"is_anomaly_baseline\"] = df[\"amount\"] > threshold\n",
        "\n",
        "baseline_fraud_rate = df[\"is_anomaly_baseline\"].mean()\n",
        "\n",
        "print(f\" Baseline Fraud Rate: {baseline_fraud_rate:.2%}\")\n"
      ],
      "metadata": {
        "colab": {
          "base_uri": "https://localhost:8080/"
        },
        "id": "R12dLrHmvrD0",
        "outputId": "1c91140a-fa7d-4dfe-b90b-f519e6edde91"
      },
      "execution_count": 44,
      "outputs": [
        {
          "output_type": "stream",
          "name": "stdout",
          "text": [
            " Baseline Fraud Rate: 1.01%\n"
          ]
        }
      ]
    },
    {
      "cell_type": "code",
      "source": [
        "def compare_methods():\n",
        "\n",
        "    num_tests = 500\n",
        "    llm_correct = 0\n",
        "    baseline_correct = 0\n",
        "\n",
        "    for _ in range(num_tests):\n",
        "        txn_index = np.random.randint(0, len(df))\n",
        "        query_embedding = embeddings[txn_index].reshape(1, -1)\n",
        "\n",
        "        is_fraud_llm, _, _ = detect_fraud(query_embedding)\n",
        "        is_fraud_baseline = df.iloc[txn_index][\"is_anomaly_baseline\"]\n",
        "\n",
        "        if is_fraud_llm == df.iloc[txn_index][\"isFraud\"]:\n",
        "            llm_correct += 1\n",
        "        if is_fraud_baseline == df.iloc[txn_index][\"isFraud\"]:\n",
        "            baseline_correct += 1\n",
        "\n",
        "    llm_accuracy = llm_correct / num_tests\n",
        "    baseline_accuracy = baseline_correct / num_tests\n",
        "\n",
        "    print(\" Performance Comparison:\")\n",
        "    print(f\" LLM-Based Accuracy: {llm_accuracy:.2%}\")\n",
        "    print(f\" Baseline Accuracy: {baseline_accuracy:.2%}\")\n",
        "\n",
        "compare_methods()\n"
      ],
      "metadata": {
        "colab": {
          "base_uri": "https://localhost:8080/"
        },
        "id": "2xPLMpSev3ql",
        "outputId": "33177d8f-5666-4be3-cacb-c3bc2f26c304"
      },
      "execution_count": 45,
      "outputs": [
        {
          "output_type": "stream",
          "name": "stdout",
          "text": [
            " Performance Comparison:\n",
            " LLM-Based Accuracy: 100.00%\n",
            " Baseline Accuracy: 99.00%\n"
          ]
        }
      ]
    },
    {
      "cell_type": "code",
      "source": [
        "!pip install streamlit"
      ],
      "metadata": {
        "colab": {
          "base_uri": "https://localhost:8080/"
        },
        "id": "TQ12gNNBxVvn",
        "outputId": "935e15c9-7d12-44b6-d047-9c8aa044ee32"
      },
      "execution_count": 46,
      "outputs": [
        {
          "output_type": "stream",
          "name": "stdout",
          "text": [
            "Requirement already satisfied: streamlit in /usr/local/lib/python3.11/dist-packages (1.43.2)\n",
            "Requirement already satisfied: altair<6,>=4.0 in /usr/local/lib/python3.11/dist-packages (from streamlit) (5.5.0)\n",
            "Requirement already satisfied: blinker<2,>=1.0.0 in /usr/local/lib/python3.11/dist-packages (from streamlit) (1.9.0)\n",
            "Requirement already satisfied: cachetools<6,>=4.0 in /usr/local/lib/python3.11/dist-packages (from streamlit) (5.5.2)\n",
            "Requirement already satisfied: click<9,>=7.0 in /usr/local/lib/python3.11/dist-packages (from streamlit) (8.1.8)\n",
            "Requirement already satisfied: numpy<3,>=1.23 in /usr/local/lib/python3.11/dist-packages (from streamlit) (1.26.4)\n",
            "Requirement already satisfied: packaging<25,>=20 in /usr/local/lib/python3.11/dist-packages (from streamlit) (24.2)\n",
            "Requirement already satisfied: pandas<3,>=1.4.0 in /usr/local/lib/python3.11/dist-packages (from streamlit) (2.2.2)\n",
            "Requirement already satisfied: pillow<12,>=7.1.0 in /usr/local/lib/python3.11/dist-packages (from streamlit) (11.1.0)\n",
            "Requirement already satisfied: protobuf<6,>=3.20 in /usr/local/lib/python3.11/dist-packages (from streamlit) (4.25.6)\n",
            "Requirement already satisfied: pyarrow>=7.0 in /usr/local/lib/python3.11/dist-packages (from streamlit) (18.1.0)\n",
            "Requirement already satisfied: requests<3,>=2.27 in /usr/local/lib/python3.11/dist-packages (from streamlit) (2.32.3)\n",
            "Requirement already satisfied: tenacity<10,>=8.1.0 in /usr/local/lib/python3.11/dist-packages (from streamlit) (9.0.0)\n",
            "Requirement already satisfied: toml<2,>=0.10.1 in /usr/local/lib/python3.11/dist-packages (from streamlit) (0.10.2)\n",
            "Requirement already satisfied: typing-extensions<5,>=4.4.0 in /usr/local/lib/python3.11/dist-packages (from streamlit) (4.12.2)\n",
            "Requirement already satisfied: watchdog<7,>=2.1.5 in /usr/local/lib/python3.11/dist-packages (from streamlit) (6.0.0)\n",
            "Requirement already satisfied: gitpython!=3.1.19,<4,>=3.0.7 in /usr/local/lib/python3.11/dist-packages (from streamlit) (3.1.44)\n",
            "Requirement already satisfied: pydeck<1,>=0.8.0b4 in /usr/local/lib/python3.11/dist-packages (from streamlit) (0.9.1)\n",
            "Requirement already satisfied: tornado<7,>=6.0.3 in /usr/local/lib/python3.11/dist-packages (from streamlit) (6.4.2)\n",
            "Requirement already satisfied: jinja2 in /usr/local/lib/python3.11/dist-packages (from altair<6,>=4.0->streamlit) (3.1.6)\n",
            "Requirement already satisfied: jsonschema>=3.0 in /usr/local/lib/python3.11/dist-packages (from altair<6,>=4.0->streamlit) (4.23.0)\n",
            "Requirement already satisfied: narwhals>=1.14.2 in /usr/local/lib/python3.11/dist-packages (from altair<6,>=4.0->streamlit) (1.29.1)\n",
            "Requirement already satisfied: gitdb<5,>=4.0.1 in /usr/local/lib/python3.11/dist-packages (from gitpython!=3.1.19,<4,>=3.0.7->streamlit) (4.0.12)\n",
            "Requirement already satisfied: python-dateutil>=2.8.2 in /usr/local/lib/python3.11/dist-packages (from pandas<3,>=1.4.0->streamlit) (2.8.2)\n",
            "Requirement already satisfied: pytz>=2020.1 in /usr/local/lib/python3.11/dist-packages (from pandas<3,>=1.4.0->streamlit) (2025.1)\n",
            "Requirement already satisfied: tzdata>=2022.7 in /usr/local/lib/python3.11/dist-packages (from pandas<3,>=1.4.0->streamlit) (2025.1)\n",
            "Requirement already satisfied: charset-normalizer<4,>=2 in /usr/local/lib/python3.11/dist-packages (from requests<3,>=2.27->streamlit) (3.4.1)\n",
            "Requirement already satisfied: idna<4,>=2.5 in /usr/local/lib/python3.11/dist-packages (from requests<3,>=2.27->streamlit) (3.10)\n",
            "Requirement already satisfied: urllib3<3,>=1.21.1 in /usr/local/lib/python3.11/dist-packages (from requests<3,>=2.27->streamlit) (2.3.0)\n",
            "Requirement already satisfied: certifi>=2017.4.17 in /usr/local/lib/python3.11/dist-packages (from requests<3,>=2.27->streamlit) (2025.1.31)\n",
            "Requirement already satisfied: smmap<6,>=3.0.1 in /usr/local/lib/python3.11/dist-packages (from gitdb<5,>=4.0.1->gitpython!=3.1.19,<4,>=3.0.7->streamlit) (5.0.2)\n",
            "Requirement already satisfied: MarkupSafe>=2.0 in /usr/local/lib/python3.11/dist-packages (from jinja2->altair<6,>=4.0->streamlit) (2.1.5)\n",
            "Requirement already satisfied: attrs>=22.2.0 in /usr/local/lib/python3.11/dist-packages (from jsonschema>=3.0->altair<6,>=4.0->streamlit) (25.1.0)\n",
            "Requirement already satisfied: jsonschema-specifications>=2023.03.6 in /usr/local/lib/python3.11/dist-packages (from jsonschema>=3.0->altair<6,>=4.0->streamlit) (2024.10.1)\n",
            "Requirement already satisfied: referencing>=0.28.4 in /usr/local/lib/python3.11/dist-packages (from jsonschema>=3.0->altair<6,>=4.0->streamlit) (0.36.2)\n",
            "Requirement already satisfied: rpds-py>=0.7.1 in /usr/local/lib/python3.11/dist-packages (from jsonschema>=3.0->altair<6,>=4.0->streamlit) (0.23.1)\n",
            "Requirement already satisfied: six>=1.5 in /usr/local/lib/python3.11/dist-packages (from python-dateutil>=2.8.2->pandas<3,>=1.4.0->streamlit) (1.17.0)\n"
          ]
        }
      ]
    },
    {
      "cell_type": "code",
      "source": [
        "!pip install gradio\n"
      ],
      "metadata": {
        "colab": {
          "base_uri": "https://localhost:8080/"
        },
        "id": "hq8NSrJtI-PE",
        "outputId": "350d1721-f735-473a-eac3-b763bcc476a8"
      },
      "execution_count": 47,
      "outputs": [
        {
          "output_type": "stream",
          "name": "stdout",
          "text": [
            "Requirement already satisfied: gradio in /usr/local/lib/python3.11/dist-packages (5.20.1)\n",
            "Requirement already satisfied: aiofiles<24.0,>=22.0 in /usr/local/lib/python3.11/dist-packages (from gradio) (23.2.1)\n",
            "Requirement already satisfied: anyio<5.0,>=3.0 in /usr/local/lib/python3.11/dist-packages (from gradio) (3.7.1)\n",
            "Requirement already satisfied: fastapi<1.0,>=0.115.2 in /usr/local/lib/python3.11/dist-packages (from gradio) (0.115.11)\n",
            "Requirement already satisfied: ffmpy in /usr/local/lib/python3.11/dist-packages (from gradio) (0.5.0)\n",
            "Requirement already satisfied: gradio-client==1.7.2 in /usr/local/lib/python3.11/dist-packages (from gradio) (1.7.2)\n",
            "Requirement already satisfied: groovy~=0.1 in /usr/local/lib/python3.11/dist-packages (from gradio) (0.1.2)\n",
            "Requirement already satisfied: httpx>=0.24.1 in /usr/local/lib/python3.11/dist-packages (from gradio) (0.28.1)\n",
            "Requirement already satisfied: huggingface-hub>=0.28.1 in /usr/local/lib/python3.11/dist-packages (from gradio) (0.28.1)\n",
            "Requirement already satisfied: jinja2<4.0 in /usr/local/lib/python3.11/dist-packages (from gradio) (3.1.6)\n",
            "Requirement already satisfied: markupsafe~=2.0 in /usr/local/lib/python3.11/dist-packages (from gradio) (2.1.5)\n",
            "Requirement already satisfied: numpy<3.0,>=1.0 in /usr/local/lib/python3.11/dist-packages (from gradio) (1.26.4)\n",
            "Requirement already satisfied: orjson~=3.0 in /usr/local/lib/python3.11/dist-packages (from gradio) (3.10.15)\n",
            "Requirement already satisfied: packaging in /usr/local/lib/python3.11/dist-packages (from gradio) (24.2)\n",
            "Requirement already satisfied: pandas<3.0,>=1.0 in /usr/local/lib/python3.11/dist-packages (from gradio) (2.2.2)\n",
            "Requirement already satisfied: pillow<12.0,>=8.0 in /usr/local/lib/python3.11/dist-packages (from gradio) (11.1.0)\n",
            "Requirement already satisfied: pydantic>=2.0 in /usr/local/lib/python3.11/dist-packages (from gradio) (2.10.6)\n",
            "Requirement already satisfied: pydub in /usr/local/lib/python3.11/dist-packages (from gradio) (0.25.1)\n",
            "Requirement already satisfied: python-multipart>=0.0.18 in /usr/local/lib/python3.11/dist-packages (from gradio) (0.0.20)\n",
            "Requirement already satisfied: pyyaml<7.0,>=5.0 in /usr/local/lib/python3.11/dist-packages (from gradio) (6.0.2)\n",
            "Requirement already satisfied: ruff>=0.9.3 in /usr/local/lib/python3.11/dist-packages (from gradio) (0.9.10)\n",
            "Requirement already satisfied: safehttpx<0.2.0,>=0.1.6 in /usr/local/lib/python3.11/dist-packages (from gradio) (0.1.6)\n",
            "Requirement already satisfied: semantic-version~=2.0 in /usr/local/lib/python3.11/dist-packages (from gradio) (2.10.0)\n",
            "Requirement already satisfied: starlette<1.0,>=0.40.0 in /usr/local/lib/python3.11/dist-packages (from gradio) (0.46.1)\n",
            "Requirement already satisfied: tomlkit<0.14.0,>=0.12.0 in /usr/local/lib/python3.11/dist-packages (from gradio) (0.13.2)\n",
            "Requirement already satisfied: typer<1.0,>=0.12 in /usr/local/lib/python3.11/dist-packages (from gradio) (0.15.2)\n",
            "Requirement already satisfied: typing-extensions~=4.0 in /usr/local/lib/python3.11/dist-packages (from gradio) (4.12.2)\n",
            "Requirement already satisfied: uvicorn>=0.14.0 in /usr/local/lib/python3.11/dist-packages (from gradio) (0.34.0)\n",
            "Requirement already satisfied: fsspec in /usr/local/lib/python3.11/dist-packages (from gradio-client==1.7.2->gradio) (2024.10.0)\n",
            "Requirement already satisfied: websockets<16.0,>=10.0 in /usr/local/lib/python3.11/dist-packages (from gradio-client==1.7.2->gradio) (14.2)\n",
            "Requirement already satisfied: idna>=2.8 in /usr/local/lib/python3.11/dist-packages (from anyio<5.0,>=3.0->gradio) (3.10)\n",
            "Requirement already satisfied: sniffio>=1.1 in /usr/local/lib/python3.11/dist-packages (from anyio<5.0,>=3.0->gradio) (1.3.1)\n",
            "Requirement already satisfied: certifi in /usr/local/lib/python3.11/dist-packages (from httpx>=0.24.1->gradio) (2025.1.31)\n",
            "Requirement already satisfied: httpcore==1.* in /usr/local/lib/python3.11/dist-packages (from httpx>=0.24.1->gradio) (1.0.7)\n",
            "Requirement already satisfied: h11<0.15,>=0.13 in /usr/local/lib/python3.11/dist-packages (from httpcore==1.*->httpx>=0.24.1->gradio) (0.14.0)\n",
            "Requirement already satisfied: filelock in /usr/local/lib/python3.11/dist-packages (from huggingface-hub>=0.28.1->gradio) (3.17.0)\n",
            "Requirement already satisfied: requests in /usr/local/lib/python3.11/dist-packages (from huggingface-hub>=0.28.1->gradio) (2.32.3)\n",
            "Requirement already satisfied: tqdm>=4.42.1 in /usr/local/lib/python3.11/dist-packages (from huggingface-hub>=0.28.1->gradio) (4.67.1)\n",
            "Requirement already satisfied: python-dateutil>=2.8.2 in /usr/local/lib/python3.11/dist-packages (from pandas<3.0,>=1.0->gradio) (2.8.2)\n",
            "Requirement already satisfied: pytz>=2020.1 in /usr/local/lib/python3.11/dist-packages (from pandas<3.0,>=1.0->gradio) (2025.1)\n",
            "Requirement already satisfied: tzdata>=2022.7 in /usr/local/lib/python3.11/dist-packages (from pandas<3.0,>=1.0->gradio) (2025.1)\n",
            "Requirement already satisfied: annotated-types>=0.6.0 in /usr/local/lib/python3.11/dist-packages (from pydantic>=2.0->gradio) (0.7.0)\n",
            "Requirement already satisfied: pydantic-core==2.27.2 in /usr/local/lib/python3.11/dist-packages (from pydantic>=2.0->gradio) (2.27.2)\n",
            "Requirement already satisfied: click>=8.0.0 in /usr/local/lib/python3.11/dist-packages (from typer<1.0,>=0.12->gradio) (8.1.8)\n",
            "Requirement already satisfied: shellingham>=1.3.0 in /usr/local/lib/python3.11/dist-packages (from typer<1.0,>=0.12->gradio) (1.5.4)\n",
            "Requirement already satisfied: rich>=10.11.0 in /usr/local/lib/python3.11/dist-packages (from typer<1.0,>=0.12->gradio) (13.9.4)\n",
            "Requirement already satisfied: six>=1.5 in /usr/local/lib/python3.11/dist-packages (from python-dateutil>=2.8.2->pandas<3.0,>=1.0->gradio) (1.17.0)\n",
            "Requirement already satisfied: markdown-it-py>=2.2.0 in /usr/local/lib/python3.11/dist-packages (from rich>=10.11.0->typer<1.0,>=0.12->gradio) (3.0.0)\n",
            "Requirement already satisfied: pygments<3.0.0,>=2.13.0 in /usr/local/lib/python3.11/dist-packages (from rich>=10.11.0->typer<1.0,>=0.12->gradio) (2.18.0)\n",
            "Requirement already satisfied: charset-normalizer<4,>=2 in /usr/local/lib/python3.11/dist-packages (from requests->huggingface-hub>=0.28.1->gradio) (3.4.1)\n",
            "Requirement already satisfied: urllib3<3,>=1.21.1 in /usr/local/lib/python3.11/dist-packages (from requests->huggingface-hub>=0.28.1->gradio) (2.3.0)\n",
            "Requirement already satisfied: mdurl~=0.1 in /usr/local/lib/python3.11/dist-packages (from markdown-it-py>=2.2.0->rich>=10.11.0->typer<1.0,>=0.12->gradio) (0.1.2)\n"
          ]
        }
      ]
    },
    {
      "cell_type": "code",
      "source": [
        "import pickle\n",
        "\n",
        "with open(\"fraud_model.pkl\", \"wb\") as f:\n",
        "    pickle.dump(model, f)\n"
      ],
      "metadata": {
        "id": "KedYHusJJW5s"
      },
      "execution_count": 48,
      "outputs": []
    },
    {
      "cell_type": "code",
      "source": [
        "import pickle\n",
        "import os\n",
        "\n",
        "if not os.path.exists(\"fraud_model.pkl\"):\n",
        "    print(\"⚠️ Model file is missing! Train the model first.\")\n",
        "else:\n",
        "    with open(\"fraud_model.pkl\", \"rb\") as f:\n",
        "        model = pickle.load(f)\n",
        "    print(\"✅ Model loaded successfully.\")\n"
      ],
      "metadata": {
        "colab": {
          "base_uri": "https://localhost:8080/"
        },
        "id": "jWCHeycGLocs",
        "outputId": "c38c7e82-fa28-4f36-c1e3-b9ee05aab887"
      },
      "execution_count": 31,
      "outputs": [
        {
          "output_type": "stream",
          "name": "stdout",
          "text": [
            "✅ Model loaded successfully.\n"
          ]
        }
      ]
    },
    {
      "cell_type": "code",
      "source": [
        "import pandas as pd\n",
        "import numpy as np\n",
        "import faiss\n",
        "import logging\n",
        "import time\n",
        "from sentence_transformers import SentenceTransformer\n",
        "\n",
        "\n",
        "df = pd.read_csv(\"/content/cleaned_dataset.csv\")\n",
        "\n",
        "df.fillna(0, inplace=True)\n",
        "\n",
        "valid_types = [\"CASH_OUT\", \"TRANSFER\", \"PAYMENT\"]\n",
        "df = df[df[\"type\"].isin(valid_types)]\n",
        "\n",
        "model = SentenceTransformer('sentence-transformers/all-MiniLM-L6-v2')\n",
        "df['embeddings'] = df['Cleaned_Description'].astype(str).apply(lambda x: model.encode(x))\n",
        "\n",
        "\n",
        "embeddings = np.vstack(df['embeddings'].values)\n",
        "np.save(\"transaction_embeddings.npy\", embeddings)\n",
        "df.drop(columns=['embeddings']).to_csv(\"dataset_with_embeddings.csv\", index=False)\n",
        "print(\"Embeddings generated and saved!\")\n",
        "\n",
        "d = embeddings.shape[1]\n",
        "faiss.normalize_L2(embeddings)\n",
        "index = faiss.IndexFlatL2(d)\n",
        "index.add(embeddings)\n",
        "faiss.write_index(index, \"faiss_index.bin\")\n",
        "print(\"FAISS index created and saved successfully!\")\n",
        "\n",
        "index = faiss.read_index(\"faiss_index.bin\")\n",
        "\n",
        "def detect_fraud(query_embedding, threshold=0.5, k=5):\n",
        "    faiss.normalize_L2(query_embedding)\n",
        "    distances, indices = index.search(query_embedding, k)\n",
        "    avg_distance = np.mean(distances)\n",
        "    is_anomalous = avg_distance > threshold\n",
        "    return is_anomalous, avg_distance, indices\n",
        "\n",
        "# Logging setup\n",
        "logging.basicConfig(filename=\"fraud_alerts.log\", level=logging.INFO, format=\"%(asctime)s - %(message)s\")\n",
        "\n",
        "def generate_alert(txn_index, is_fraud, avg_distance):\n",
        "    if is_fraud:\n",
        "        txn_details = df.iloc[txn_index].to_dict()\n",
        "        logging.info(f\"Fraud Alert! Transaction Index: {txn_index}, Avg Distance: {avg_distance}\")\n",
        "        print(f\"FRAUD DETECTED! Transaction {txn_index} flagged for review.\")\n",
        "        print(\"Transaction Details:\", txn_details)\n",
        "    else:\n",
        "        print(f\"Transaction {txn_index} is normal.\")\n",
        "\n",
        "def test_fraud_detection(num_tests=100):\n",
        "    fraud_count = 0\n",
        "    total_time = 0\n",
        "    for _ in range(num_tests):\n",
        "        txn_index = np.random.randint(0, len(df))\n",
        "        query_embedding = embeddings[txn_index].reshape(1, -1)\n",
        "        start_time = time.time()\n",
        "        is_fraud, avg_distance, _ = detect_fraud(query_embedding)\n",
        "        total_time += (time.time() - start_time)\n",
        "        if is_fraud:\n",
        "            fraud_count += 1\n",
        "    avg_latency = total_time / num_tests\n",
        "    fraud_rate = fraud_count / num_tests\n",
        "    print(f\"Test Completed: {num_tests} Transactions\")\n",
        "    print(f\"Average Latency: {avg_latency:.4f} sec\")\n",
        "    print(f\"Fraud Detection Rate: {fraud_rate:.2%}\")\n",
        "\n",
        "def benchmark_faiss_search(k=5):\n",
        "    txn_index = np.random.randint(0, len(df))\n",
        "    query_embedding = embeddings[txn_index].reshape(1, -1)\n",
        "    start_time = time.time()\n",
        "    distances, indices = index.search(query_embedding, k)\n",
        "    search_time = time.time() - start_time\n",
        "    print(f\"FAISS Search Time: {search_time:.4f} sec\")\n",
        "    print(f\"Top {k} Similar Transactions: {indices}\")\n",
        "\n",
        "threshold = np.percentile(df[\"amount\"], 99)\n",
        "df[\"is_anomaly_baseline\"] = df[\"amount\"] > threshold\n",
        "baseline_fraud_rate = df[\"is_anomaly_baseline\"].mean()\n",
        "print(f\"Baseline Fraud Rate: {baseline_fraud_rate:.2%}\")\n",
        "\n",
        "def compare_methods(num_tests=500):\n",
        "    llm_correct = 0\n",
        "    baseline_correct = 0\n",
        "    for _ in range(num_tests):\n",
        "        txn_index = np.random.randint(0, len(df))\n",
        "        query_embedding = embeddings[txn_index].reshape(1, -1)\n",
        "        is_fraud_llm, _, _ = detect_fraud(query_embedding)\n",
        "        is_fraud_baseline = df.iloc[txn_index][\"is_anomaly_baseline\"]\n",
        "        if is_fraud_llm == df.iloc[txn_index][\"isFraud\"]:\n",
        "            llm_correct += 1\n",
        "        if is_fraud_baseline == df.iloc[txn_index][\"isFraud\"]:\n",
        "            baseline_correct += 1\n",
        "    llm_accuracy = llm_correct / num_tests\n",
        "    baseline_accuracy = baseline_correct / num_tests\n",
        "    print(\"Performance Comparison:\")\n",
        "    print(f\"LLM-Based Accuracy: {llm_accuracy:.2%}\")\n",
        "    print(f\"Baseline Accuracy: {baseline_accuracy:.2%}\")\n",
        "\n",
        "test_fraud_detection()\n",
        "benchmark_faiss_search()\n",
        "compare_methods()"
      ],
      "metadata": {
        "colab": {
          "base_uri": "https://localhost:8080/"
        },
        "id": "QYDE_VtGPTcY",
        "outputId": "98e61e3c-9026-464e-9691-dd9b1726645f"
      },
      "execution_count": 51,
      "outputs": [
        {
          "output_type": "stream",
          "name": "stdout",
          "text": [
            "Embeddings generated and saved!\n",
            "FAISS index created and saved successfully!\n",
            "Baseline Fraud Rate: 1.02%\n",
            "Test Completed: 100 Transactions\n",
            "Average Latency: 0.0006 sec\n",
            "Fraud Detection Rate: 0.00%\n",
            "FAISS Search Time: 0.0008 sec\n",
            "Top 5 Similar Transactions: [[ 0  1  4 10 11]]\n",
            "Performance Comparison:\n",
            "LLM-Based Accuracy: 100.00%\n",
            "Baseline Accuracy: 97.80%\n"
          ]
        }
      ]
    },
    {
      "cell_type": "code",
      "source": [
        "import gradio as gr\n",
        "import faiss\n",
        "import numpy as np\n",
        "from sentence_transformers import SentenceTransformer\n",
        "\n",
        "model = SentenceTransformer('all-MiniLM-L6-v2')\n",
        "\n",
        "\n",
        "index = faiss.read_index(\"faiss_index.bin\")\n",
        "stored_embeddings = np.load(\"transaction_embeddings.npy\")\n",
        "\n",
        "\n",
        "ANOMALY_THRESHOLD = 0.3\n",
        "\n",
        "def detect_fraud(transaction_text):\n",
        "\n",
        "\n",
        "    transaction_embedding = model.encode([transaction_text])\n",
        "\n",
        "\n",
        "    D, I = index.search(transaction_embedding, 5)\n",
        "    avg_distance = np.mean(D)\n",
        "\n",
        "    is_fraud = avg_distance > ANOMALY_THRESHOLD\n",
        "    fraud_status = \"🚨 Fraudulent\" if is_fraud else \"✅ Normal\"\n",
        "\n",
        "    return fraud_status, f\"Top 5 Similar Transactions (Indexes): {I.tolist()}\"\n",
        "\n",
        "demo = gr.Interface(\n",
        "    fn=detect_fraud,\n",
        "    inputs=gr.Textbox(placeholder=\"Enter transaction description...\"),\n",
        "    outputs=[gr.Text(label=\"Fraud Status\"), gr.Text(label=\"Similar Transactions\")],\n",
        "    title=\"LLM-Based Fraud Detection\",\n",
        "    description=\"Enter a transaction description to check for fraud using LLM embeddings and FAISS similarity search.\"\n",
        ")\n",
        "\n",
        "demo.launch()\n"
      ],
      "metadata": {
        "colab": {
          "base_uri": "https://localhost:8080/",
          "height": 646
        },
        "id": "dxbZj5x-RVDy",
        "outputId": "ba04bb56-b90a-4850-ea9c-bfe361b77448"
      },
      "execution_count": 52,
      "outputs": [
        {
          "output_type": "stream",
          "name": "stdout",
          "text": [
            "Running Gradio in a Colab notebook requires sharing enabled. Automatically setting `share=True` (you can turn this off by setting `share=False` in `launch()` explicitly).\n",
            "\n",
            "Colab notebook detected. To show errors in colab notebook, set debug=True in launch()\n",
            "* Running on public URL: https://0dcb42cb3f8271a4d9.gradio.live\n",
            "\n",
            "This share link expires in 72 hours. For free permanent hosting and GPU upgrades, run `gradio deploy` from the terminal in the working directory to deploy to Hugging Face Spaces (https://huggingface.co/spaces)\n"
          ]
        },
        {
          "output_type": "display_data",
          "data": {
            "text/plain": [
              "<IPython.core.display.HTML object>"
            ],
            "text/html": [
              "<div><iframe src=\"https://0dcb42cb3f8271a4d9.gradio.live\" width=\"100%\" height=\"500\" allow=\"autoplay; camera; microphone; clipboard-read; clipboard-write;\" frameborder=\"0\" allowfullscreen></iframe></div>"
            ]
          },
          "metadata": {}
        },
        {
          "output_type": "execute_result",
          "data": {
            "text/plain": []
          },
          "metadata": {},
          "execution_count": 52
        }
      ]
    }
  ]
}